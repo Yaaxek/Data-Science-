{
  "nbformat": 4,
  "nbformat_minor": 0,
  "metadata": {
    "colab": {
      "provenance": [],
      "authorship_tag": "ABX9TyNpAtKvfrYmQcWXUQr5K+Jm",
      "include_colab_link": true
    },
    "kernelspec": {
      "name": "python3",
      "display_name": "Python 3"
    },
    "language_info": {
      "name": "python"
    }
  },
  "cells": [
    {
      "cell_type": "markdown",
      "metadata": {
        "id": "view-in-github",
        "colab_type": "text"
      },
      "source": [
        "<a href=\"https://colab.research.google.com/github/Yaaxek/Data-Science-/blob/main/Ejercicios_practicos_del_primer_modulo.ipynb\" target=\"_parent\"><img src=\"https://colab.research.google.com/assets/colab-badge.svg\" alt=\"Open In Colab\"/></a>"
      ]
    },
    {
      "cell_type": "markdown",
      "source": [
        "##**Ejercicios**"
      ],
      "metadata": {
        "id": "Q0pAUzXCQHN0"
      }
    },
    {
      "cell_type": "markdown",
      "source": [
        "1 - Crea un programa que tenga la siguiente lista con los gastos de una empresa de papel [2172.54, 3701.35, 3518.09, 3456.61, 3249.38, 2840.82, 3891.45, 3075.26, 2317.64, 3219.08]. Con estos valores, crea un programa que calcule el promedio de gastos. Sugerencia: usa las funciones integradas sum() y len().\n",
        "\n"
      ],
      "metadata": {
        "id": "r3Gx1b3vQMwZ"
      }
    },
    {
      "cell_type": "code",
      "source": [
        "empresa=[2172.54, 3701.35, 3518.09, 3456.61, 3249.38, 2840.82, 3891.45, 3075.26, 2317.64, 3219.08]\n",
        "len(empresa)"
      ],
      "metadata": {
        "colab": {
          "base_uri": "https://localhost:8080/"
        },
        "id": "AaheduRBQN9K",
        "outputId": "7b0ef28f-e27d-4caf-8b0f-12f5371d3522"
      },
      "execution_count": null,
      "outputs": [
        {
          "output_type": "execute_result",
          "data": {
            "text/plain": [
              "10"
            ]
          },
          "metadata": {},
          "execution_count": 98
        }
      ]
    },
    {
      "cell_type": "code",
      "source": [
        "promedio=sum(empresa)/10\n",
        "print(f'El promedio de los gastos es: {promedio}')"
      ],
      "metadata": {
        "colab": {
          "base_uri": "https://localhost:8080/"
        },
        "id": "RUK2fuEMQWh_",
        "outputId": "c0c1d7cf-e951-48ce-bca5-6f8ac2b2a523"
      },
      "execution_count": null,
      "outputs": [
        {
          "output_type": "stream",
          "name": "stdout",
          "text": [
            "El promedio de los gastos es: 3144.222\n"
          ]
        }
      ]
    },
    {
      "cell_type": "markdown",
      "source": [
        "2 - Con los mismos datos de la pregunta anterior, determina cuántas compras se realizaron por encima de 3000 reales y calcula el porcentaje con respecto al total de compras.\n",
        "\n"
      ],
      "metadata": {
        "id": "q9XwSaKAQpkI"
      }
    },
    {
      "cell_type": "code",
      "source": [
        "empresa=[2172.54, 3701.35, 3518.09, 3456.61, 3249.38, 2840.82, 3891.45, 3075.26, 2317.64, 3219.08]\n",
        "contador=0\n",
        "for gasto in empresa:\n",
        "  if gasto>3000:\n",
        "    contador +=1\n",
        "porcentaje = 100*contador/len(empresa)\n",
        "print(f'El porcentaje de compras por encima de 3000 reales es: {porcentaje}%')\n",
        "print(f'El numero de compras por encima de 3000 reales es: {contador}')"
      ],
      "metadata": {
        "colab": {
          "base_uri": "https://localhost:8080/"
        },
        "id": "C1Du0YkdQqr6",
        "outputId": "7bb9fa07-3e49-4b90-f054-73170d63c692"
      },
      "execution_count": null,
      "outputs": [
        {
          "output_type": "stream",
          "name": "stdout",
          "text": [
            "El porcentaje de compras por encima de 3000 reales es: 70.0%\n",
            "El numero de compras por encima de 3000 reales es: 7\n"
          ]
        }
      ]
    },
    {
      "cell_type": "markdown",
      "source": [
        "3 - Crea un código que recoja en una lista 5 números enteros aleatorios e imprima la lista. Ejemplo: [1, 4, 7, 2, 4].\n",
        "\n"
      ],
      "metadata": {
        "id": "hOJspunnT8UI"
      }
    },
    {
      "cell_type": "code",
      "source": [
        "lista=[]\n",
        "for n in range(0,5):\n",
        "  numero=int(input('Ingrese un numero entero: '))\n",
        "  lista.append(numero)\n",
        "print(lista)\n"
      ],
      "metadata": {
        "id": "lZaPaiJ8T9y8",
        "outputId": "4c59f2e1-399c-450f-d4e3-8f55bfedee0d",
        "colab": {
          "base_uri": "https://localhost:8080/"
        }
      },
      "execution_count": null,
      "outputs": [
        {
          "output_type": "stream",
          "name": "stdout",
          "text": [
            "Ingrese un numero entero: 4\n",
            "Ingrese un numero entero: 6\n",
            "Ingrese un numero entero: 2\n",
            "Ingrese un numero entero: 4\n",
            "Ingrese un numero entero: 3\n",
            "[4, 6, 2, 4, 3]\n"
          ]
        }
      ]
    },
    {
      "cell_type": "markdown",
      "source": [
        "4 - Recoge nuevamente 5 números enteros e imprime la lista en orden inverso al enviado.\n",
        "\n"
      ],
      "metadata": {
        "id": "qcwBBnFQUeRn"
      }
    },
    {
      "cell_type": "code",
      "source": [
        "lista=[]\n",
        "for n in range(0,5):\n",
        "  numero=int(input('Ingrese un numero entero:'))\n",
        "  lista.append(numero)\n",
        "print(f'Lista invertida: {lista[::-1]}')"
      ],
      "metadata": {
        "id": "rg4h79N6Ugfq",
        "outputId": "7a4630d7-1d8a-4f7e-c30d-391724dc238c",
        "colab": {
          "base_uri": "https://localhost:8080/"
        }
      },
      "execution_count": null,
      "outputs": [
        {
          "output_type": "stream",
          "name": "stdout",
          "text": [
            "Ingrese un numero entero:94\n",
            "Ingrese un numero entero:3\n",
            "Ingrese un numero entero:5\n",
            "Ingrese un numero entero:2\n",
            "Ingrese un numero entero:1\n",
            "Lista invertida: [1, 2, 5, 3, 94]\n"
          ]
        }
      ]
    },
    {
      "cell_type": "markdown",
      "source": [
        "5 - Crea un programa que, al ingresar un número cualquiera, genere una lista que contenga todos los números primos entre 1 y el número ingresado.\n",
        "\n"
      ],
      "metadata": {
        "id": "9WTeyi4EVhWa"
      }
    },
    {
      "cell_type": "code",
      "source": [
        "lista=[]\n",
        "n=int(input('Ingrese un numero entero: '))\n",
        "for numero in range(2,n):\n",
        "  primo=True\n",
        "  for divisor in range(2,numero):\n",
        "    if numero%divisor==0:\n",
        "      primo=False\n",
        "      break\n",
        "  if primo:\n",
        "    lista.append(numero)\n",
        "print(lista)\n"
      ],
      "metadata": {
        "colab": {
          "base_uri": "https://localhost:8080/"
        },
        "id": "020dzCFiX0mf",
        "outputId": "12ca9153-d87c-4ed5-d667-95a5f6672faa"
      },
      "execution_count": null,
      "outputs": [
        {
          "output_type": "stream",
          "name": "stdout",
          "text": [
            "Ingrese un numero entero: 8\n",
            "[2, 3, 5, 7]\n"
          ]
        }
      ]
    },
    {
      "cell_type": "markdown",
      "source": [
        "6 - Escribe un programa que pida una fecha, especificando el día, mes y año, y determine si es válida para su análisis.\n",
        "\n"
      ],
      "metadata": {
        "id": "I3xt1ZMCViOd"
      }
    },
    {
      "cell_type": "code",
      "source": [
        "dia=int(input('Ingrese un dia:'))\n",
        "mes=int(input('Ingrese un mes:'))\n",
        "año=int(input('Ingrese un año:'))\n",
        "\n",
        "fecha_valida = True\n",
        "\n",
        "if mes < 1 or mes > 12:\n",
        "  fecha_valida = False\n",
        "elif dia < 1:\n",
        "  fecha_valida = False\n",
        "elif mes in [1, 3, 5, 7, 8, 10, 12]:\n",
        "  if dia > 31:\n",
        "    fecha_valida = False\n",
        "elif mes in [4, 6, 9, 11]:\n",
        "  if dia > 30:\n",
        "    fecha_valida = False\n",
        "elif mes == 2:\n",
        "  if (año % 4 == 0 and año % 100 != 0) or (año % 400 == 0):\n",
        "    if dia > 29:\n",
        "      fecha_valida = False\n",
        "  else:\n",
        "    if dia > 28:\n",
        "      fecha_valida = False\n",
        "\n",
        "if fecha_valida:\n",
        "  print('Fecha valida')\n",
        "else:\n",
        "  print('Fecha invalida')"
      ],
      "metadata": {
        "colab": {
          "base_uri": "https://localhost:8080/"
        },
        "id": "E9GylrD5Y_CP",
        "outputId": "268da8e0-a044-4237-f10a-04dff314f998"
      },
      "execution_count": 9,
      "outputs": [
        {
          "output_type": "stream",
          "name": "stdout",
          "text": [
            "Ingrese un dia:29\n",
            "Ingrese un mes:2\n",
            "Ingrese un año:2025\n",
            "Fecha invalida\n"
          ]
        }
      ]
    },
    {
      "cell_type": "markdown",
      "source": [
        "7 - Para un estudio sobre la multiplicación de bacterias en una colonia, se recopiló el número de bacterias multiplicadas por día y se puede observar a continuación: [1.2, 2.1, 3.3, 5.0, 7.8, 11.3, 16.6, 25.1, 37.8, 56.9]. Con estos valores, crea un código que genere una lista que contenga el porcentaje de crecimiento de bacterias por día, comparando el número de bacterias en cada día con el número de bacterias del día anterior. Sugerencia: para calcular el porcentaje de crecimiento, utiliza la siguiente ecuación: 100 * (muestra_actual - muestra_anterior) / muestra_anterior.\n",
        "\n"
      ],
      "metadata": {
        "id": "0iHlZd0IVi6K"
      }
    },
    {
      "cell_type": "code",
      "source": [
        "bacterias=[1.2, 2.1, 3.3, 5.0, 7.8, 11.3, 16.6, 25.1, 37.8, 56.9]\n",
        "porcentaje=[]\n",
        "for n in range(0,len(bacterias)-1):\n",
        "  porcentaje.append(100*(bacterias[n+1]-bacterias[n])/bacterias[n])\n",
        "print(porcentaje)"
      ],
      "metadata": {
        "colab": {
          "base_uri": "https://localhost:8080/"
        },
        "id": "EqB5zxNQaZOt",
        "outputId": "b3d88a38-238e-4c3d-d283-d4e263e4d8b8"
      },
      "execution_count": 31,
      "outputs": [
        {
          "output_type": "stream",
          "name": "stdout",
          "text": [
            "[75.00000000000001, 57.142857142857125, 51.51515151515153, 56.0, 44.87179487179489, 46.90265486725664, 51.20481927710843, 50.59760956175297, 50.52910052910054]\n"
          ]
        }
      ]
    },
    {
      "cell_type": "markdown",
      "source": [
        "8 - Para una selección de productos alimenticios, debemos separar el conjunto de IDs proporcionados por números enteros, sabiendo que los productos con ID par son dulces y los que tienen ID impar son amargos. Crea un código que recoja 10 IDs. Luego, calcula y muestra la cantidad de productos dulces y amargos.\n",
        "\n"
      ],
      "metadata": {
        "id": "o0edPJGuVjjD"
      }
    },
    {
      "cell_type": "code",
      "source": [
        "id=[]\n",
        "dulce=0\n",
        "amargo=0\n",
        "for n in range(0,10):\n",
        "  id.append(int(input('Ingrese el ID del producto:')))\n",
        "for cantidad in id:\n",
        "    if cantidad%2==0:\n",
        "            dulce+=1\n",
        "    else:\n",
        "            amargo+=1\n",
        "print(f'Dulces son: {dulce} y amargos son: {amargo}')\n"
      ],
      "metadata": {
        "colab": {
          "base_uri": "https://localhost:8080/"
        },
        "id": "8R879lJ9dnth",
        "outputId": "58e8df7a-3de3-49d0-d21c-180a0270b5ca"
      },
      "execution_count": 38,
      "outputs": [
        {
          "output_type": "stream",
          "name": "stdout",
          "text": [
            "Ingrese el ID del producto:1\n",
            "Ingrese el ID del producto:2\n",
            "Ingrese el ID del producto:3\n",
            "Ingrese el ID del producto:4\n",
            "Ingrese el ID del producto:5\n",
            "Ingrese el ID del producto:6\n",
            "Ingrese el ID del producto:7\n",
            "Ingrese el ID del producto:8\n",
            "Ingrese el ID del producto:9\n",
            "Ingrese el ID del producto:10\n",
            "Dulces son: 5 y amargos son: 5\n"
          ]
        }
      ]
    },
    {
      "cell_type": "markdown",
      "source": [
        "9 - Desarrolla un programa que informe la puntuación de un estudiante de acuerdo con sus respuestas. Debe pedir la respuesta del estudiante para cada pregunta y verificar si la respuesta coincide con el resultado. Cada pregunta vale un punto y hay opciones A, B, C o D.\n",
        "\n",
        "Resultado del examen:\n",
        "01 - D\n",
        "02 - A\n",
        "03 - C\n",
        "04 - B\n",
        "05 - A\n",
        "06 - D\n",
        "07 - C\n",
        "08 - C\n",
        "09 - A\n",
        "10 - B"
      ],
      "metadata": {
        "id": "clXtMc89VkLL"
      }
    },
    {
      "cell_type": "code",
      "source": [
        "respuestas_correctas=['D','A','C','B','A','D','C','C','A','B']\n",
        "respuestas_estudiante=[]\n",
        "correcta=0\n",
        "for n in range(1,11):\n",
        "  respuesta=input(f'Ingrese la respuesta de la pregunta {n}: ')\n",
        "  respuestas_estudiante.append(respuesta)\n",
        "  if respuesta==respuestas_correctas[n-1]:\n",
        "    correcta+=1\n",
        "print(f'El estudiante obtuvo {correcta} puntos')"
      ],
      "metadata": {
        "colab": {
          "base_uri": "https://localhost:8080/"
        },
        "id": "cWCW63MyjcwM",
        "outputId": "397292c9-9349-4121-ab5f-6237699eca87"
      },
      "execution_count": 39,
      "outputs": [
        {
          "output_type": "stream",
          "name": "stdout",
          "text": [
            "Ingrese la respuesta de la pregunta 1: D\n",
            "Ingrese la respuesta de la pregunta 2: A\n",
            "Ingrese la respuesta de la pregunta 3: C\n",
            "Ingrese la respuesta de la pregunta 4: B\n",
            "Ingrese la respuesta de la pregunta 5: A\n",
            "Ingrese la respuesta de la pregunta 6: D\n",
            "Ingrese la respuesta de la pregunta 7: C\n",
            "Ingrese la respuesta de la pregunta 8: C\n",
            "Ingrese la respuesta de la pregunta 9: A\n",
            "Ingrese la respuesta de la pregunta 10: A\n",
            "El estudiante obtuvo 9 puntos\n"
          ]
        }
      ]
    },
    {
      "cell_type": "markdown",
      "source": [
        "10 - Un instituto de meteorología desea realizar un estudio de la temperatura media de cada mes del año. Para ello, debes crear un código que recoja y almacene esas temperaturas medias en una lista. Luego, calcula el promedio anual de las temperaturas y muestra todas las temperaturas por encima del promedio anual y en qué mes ocurrieron, mostrando los meses por su nombre (Enero, Febrero, etc.).\n",
        "\n"
      ],
      "metadata": {
        "id": "-4ruXKuRVkrn"
      }
    },
    {
      "cell_type": "code",
      "source": [
        "temperatura=[]\n",
        "meses=['Enero','Febrero','Marzo','Abril','Mayo','Junio','Julio','Agosto','Septiembre','Octubre','Noviembre','Diciembre']\n",
        "for mes in meses:\n",
        "  temp=float(input(f'Ingrese la temperatura media de {mes}: '))\n",
        "  temperatura.append(temp)\n",
        "  promedio=sum(temperatura)/len(temperatura)\n",
        "print(f'El promedio anual de las temperaturas es: {promedio}')\n",
        "print(f'Temperatura ---> Meses')\n",
        "for n in range(0,len(temperatura)):\n",
        "  if temperatura[n]>promedio:\n",
        "    print(f'{temperatura[n]} ---> {meses[n]}')"
      ],
      "metadata": {
        "colab": {
          "base_uri": "https://localhost:8080/"
        },
        "id": "DJ5p2MAbkUE7",
        "outputId": "aee132f1-e9db-4d39-a891-5e9837684544"
      },
      "execution_count": 43,
      "outputs": [
        {
          "output_type": "stream",
          "name": "stdout",
          "text": [
            "Ingrese la temperatura media de Enero: 3\n",
            "Ingrese la temperatura media de Febrero: 6\n",
            "Ingrese la temperatura media de Marzo: 23\n",
            "Ingrese la temperatura media de Abril: 23\n",
            "Ingrese la temperatura media de Mayo: 34\n",
            "Ingrese la temperatura media de Junio: 35\n",
            "Ingrese la temperatura media de Julio: 36\n",
            "Ingrese la temperatura media de Agosto: 24\n",
            "Ingrese la temperatura media de Septiembre: 22\n",
            "Ingrese la temperatura media de Octubre: 12\n",
            "Ingrese la temperatura media de Noviembre: 3\n",
            "Ingrese la temperatura media de Diciembre: 2\n",
            "El promedio anual de las temperaturas es: 18.583333333333332\n",
            "Temperatura ---> Meses\n",
            "23.0 ---> Marzo\n",
            "23.0 ---> Abril\n",
            "34.0 ---> Mayo\n",
            "35.0 ---> Junio\n",
            "36.0 ---> Julio\n",
            "24.0 ---> Agosto\n",
            "22.0 ---> Septiembre\n"
          ]
        }
      ]
    },
    {
      "cell_type": "markdown",
      "source": [
        "11 - Una empresa de comercio electrónico está interesada en analizar las ventas de sus productos. Los datos de ventas se han almacenado en un diccionario:\n",
        "\n",
        "Escribe un código que calcule el total de ventas y el producto más vendido.\n",
        "\n"
      ],
      "metadata": {
        "id": "RQOX82S5WD2e"
      }
    },
    {
      "cell_type": "code",
      "source": [
        "productos={'Producto A': 300, 'Producto B': 80, 'Producto C': 60, 'Producto D': 200, 'Producto E': 250, 'Producto F': 30}"
      ],
      "metadata": {
        "id": "EQrsnCcSWEur"
      },
      "execution_count": 45,
      "outputs": []
    },
    {
      "cell_type": "code",
      "source": [
        "total=sum(productos.values())\n",
        "print(f'El total de ventas es: {total}')\n",
        "for producto,cantidad in productos.items():\n",
        "  if cantidad==max(productos.values()):\n",
        "    print(f'El producto mas vendido es: {producto} con {cantidad} ventas')"
      ],
      "metadata": {
        "colab": {
          "base_uri": "https://localhost:8080/"
        },
        "id": "0DSdzSCRmI_E",
        "outputId": "4f0f9b02-3e04-41f5-9fd4-5b9c6dad793a"
      },
      "execution_count": 57,
      "outputs": [
        {
          "output_type": "stream",
          "name": "stdout",
          "text": [
            "El total de ventas es: 920\n",
            "El producto mas vendido es: Producto A con 300 ventas\n"
          ]
        }
      ]
    },
    {
      "cell_type": "markdown",
      "source": [
        "12 - Se realizó una encuesta de mercado para decidir cuál diseño de marca infantil es más atractivo para los niños. Los votos de la encuesta se pueden ver a continuación:\n",
        "\n",
        "Tabla de votos de la marca\n",
        "Diseño 1 - 1334 votos\n",
        "Diseño 2 - 982 votos\n",
        "Diseño 3 - 1751 votos\n",
        "Diseño 4 - 210 votos\n",
        "Diseño 5 - 1811 votos\n",
        "Adapta los datos proporcionados a una estructura de diccionario. A partir de ello, informa el diseño ganador y el porcentaje de votos recibidos.\n",
        "\n"
      ],
      "metadata": {
        "id": "KBMUzh0LWHvh"
      }
    },
    {
      "cell_type": "code",
      "source": [
        "marca={'Diseño 1': 1334, 'Diseño 2': 982, 'Diseño 3': 1751, 'Diseño 4': 210, 'Diseño 5': 1811}"
      ],
      "metadata": {
        "id": "7cTPXuQKnbE4"
      },
      "execution_count": 58,
      "outputs": []
    },
    {
      "cell_type": "code",
      "source": [
        "votos_max=max(marca.values())\n",
        "suma=sum(marca.values())\n",
        "porcentaje=(votos_max*100)/suma\n",
        "for diseño,votos in marca.items():\n",
        "  if votos==votos_max:\n",
        "    print(f'El diseño ganador es: {diseño} con {porcentaje:.2f}% de los votos')"
      ],
      "metadata": {
        "colab": {
          "base_uri": "https://localhost:8080/"
        },
        "id": "Q3e4oLoNnkdr",
        "outputId": "7786274f-9dff-4514-ae7a-dfe5c58f0be2"
      },
      "execution_count": 69,
      "outputs": [
        {
          "output_type": "stream",
          "name": "stdout",
          "text": [
            "El diseño ganador es: Diseño 5 con 29.75% de los votos\n"
          ]
        }
      ]
    },
    {
      "cell_type": "markdown",
      "source": [
        "13 - Los empleados de un departamento de tu empresa recibirán una bonificación del 10% de su salario debido a un excelente rendimiento del equipo. El departamento de finanzas ha solicitado tu ayuda para verificar las consecuencias financieras de esta bonificación en los recursos. Se te ha enviado una lista con los salarios que recibirán la bonificación: [1172, 1644, 2617, 5130, 5532, 6341, 6650, 7238, 7685, 7782, 7903]. La bonificación de cada empleado no puede ser inferior a 200. En el código, convierte cada uno de los salarios en claves de un diccionario y la bonificación de cada salario en el valor correspondiente. Luego, informa el gasto total en bonificaciones, cuántos empleados recibieron la bonificación mínima y cuál fue el valor más alto de la bonificación proporcionada.\n",
        "\n"
      ],
      "metadata": {
        "id": "_cVBxTwtpohn"
      }
    },
    {
      "cell_type": "code",
      "source": [
        "salarios=[1172, 1644, 2617, 5130, 5532, 6341, 6650, 7238, 7685, 7782, 7903]\n",
        "bonificaciones={}\n",
        "for salario in salarios:\n",
        "  if salario*0.1<200:\n",
        "    bonificaciones[salario]=200\n",
        "  else:\n",
        "    bonificaciones[salario]=salario*0.1\n",
        "print(f'El gasto total en bonificaciones es: {sum(bonificaciones.values())}')\n",
        "print(f'Los empleados que recibieron la bonificación mínima son: {len(bonificaciones)}')"
      ],
      "metadata": {
        "colab": {
          "base_uri": "https://localhost:8080/"
        },
        "id": "NiDHGwkgppha",
        "outputId": "7dba3a3a-61fd-4c42-a629-b226237044b1"
      },
      "execution_count": 73,
      "outputs": [
        {
          "output_type": "stream",
          "name": "stdout",
          "text": [
            "El gasto total en bonificaciones es: 6087.8\n",
            "Los empleados que recibieron la bonificación mínima son: 11\n"
          ]
        }
      ]
    },
    {
      "cell_type": "code",
      "source": [
        "bonificaciones"
      ],
      "metadata": {
        "colab": {
          "base_uri": "https://localhost:8080/"
        },
        "id": "xz9bt-smqVmL",
        "outputId": "9ebe550b-4535-4aeb-b4a6-638548f54291"
      },
      "execution_count": 74,
      "outputs": [
        {
          "output_type": "execute_result",
          "data": {
            "text/plain": [
              "{1172: 200,\n",
              " 1644: 200,\n",
              " 2617: 261.7,\n",
              " 5130: 513.0,\n",
              " 5532: 553.2,\n",
              " 6341: 634.1,\n",
              " 6650: 665.0,\n",
              " 7238: 723.8000000000001,\n",
              " 7685: 768.5,\n",
              " 7782: 778.2,\n",
              " 7903: 790.3000000000001}"
            ]
          },
          "metadata": {},
          "execution_count": 74
        }
      ]
    },
    {
      "cell_type": "markdown",
      "source": [
        "14 - Un equipo de científicos de datos está estudiando la diversidad biológica en un bosque. El equipo recopiló información sobre el número de especies de plantas y animales en cada área del bosque y almacenó estos datos en un diccionario. En él, la clave describe el área de los datos y los valores en las listas corresponden a las especies de plantas y animales en esas áreas, respectivamente.\n",
        "Escribe un código para calcular el promedio de especies por área e identificar el área con la mayor diversidad biológica. Sugerencia: utiliza las funciones incorporadas sum() y len().\n",
        "\n",
        "\n"
      ],
      "metadata": {
        "id": "6uV7DKz4qirQ"
      }
    },
    {
      "cell_type": "code",
      "source": [
        "diversidad={'Área Norte': [2819, 7236], 'Área Leste': [1440, 9492], 'Área Sul': [5969, 7496], 'Área Oeste': [14446, 49688], 'Área Centro': [22558, 45148]}"
      ],
      "metadata": {
        "id": "olkdU0AEqmW_"
      },
      "execution_count": 76,
      "outputs": []
    },
    {
      "cell_type": "code",
      "source": [
        "total_especies = sum(sum(area_especies) for area_especies in diversidad.values())\n",
        "total_areas = len(diversidad)\n",
        "promedio_especies = total_especies / total_areas\n",
        "print(f'El promedio de especies por área es: {promedio_especies}')\n",
        "\n",
        "mayor_diversidad = 0\n",
        "area_mayor_diversidad = ''\n",
        "\n",
        "for area, especies in diversidad.items():\n",
        "    total_especies_area = sum(especies)\n",
        "    if total_especies_area > mayor_diversidad:\n",
        "        mayor_diversidad = total_especies_area\n",
        "        area_mayor_diversidad = area\n",
        "\n",
        "print(f'El área con la mayor diversidad biológica es: {area_mayor_diversidad} con {mayor_diversidad} especies')"
      ],
      "metadata": {
        "colab": {
          "base_uri": "https://localhost:8080/"
        },
        "id": "pmjLRz5TqnhB",
        "outputId": "d1211484-8639-40ca-cdce-0a38f8790af7"
      },
      "execution_count": 86,
      "outputs": [
        {
          "output_type": "stream",
          "name": "stdout",
          "text": [
            "El promedio de especies por área es: 33258.4\n",
            "El área con la mayor diversidad biológica es: Área Centro con 67706 especies\n"
          ]
        }
      ]
    },
    {
      "cell_type": "markdown",
      "source": [
        "15 - El departamento de Recursos Humanos de tu empresa te pidió ayuda para analizar las edades de los colaboradores de 4 sectores de la empresa. Para ello, te proporcionaron los siguientes datos:\n",
        "Dado que cada sector tiene 10 colaboradores, construye un código que calcule la media de edad de cada sector, la edad media general entre todos los sectores y cuántas personas están por encima de la edad media general.\n"
      ],
      "metadata": {
        "id": "NbeNMYnhsGvc"
      }
    },
    {
      "cell_type": "code",
      "source": [
        "rh={'Setor A': [22, 26, 30, 30, 35, 38, 40, 56, 57, 65],\n",
        " 'Setor B': [22, 24, 26, 33, 41, 49, 50, 54, 60, 64],\n",
        " 'Setor C': [23, 26, 26, 29, 34, 35, 36, 41, 52, 56],\n",
        " 'Setor D': [19, 20, 25, 27, 34, 39, 42, 44, 50, 65]}"
      ],
      "metadata": {
        "id": "ct2iES0BsJBI"
      },
      "execution_count": 87,
      "outputs": []
    },
    {
      "cell_type": "code",
      "source": [
        "totales = 0\n",
        "sector_averages = []\n",
        "for sector, edades in rh.items():\n",
        "  media = sum(edades) / len(edades)\n",
        "  sector_averages.append(media)\n",
        "  print(f'La media de edad del sector {sector} es: {media}')\n",
        "\n",
        "media_general = sum(sector_averages) / len(sector_averages)\n",
        "print(f'La media de edad general en los 4 sectores es: {media_general}')\n",
        "\n",
        "for edades in rh.values():\n",
        "  for edad in edades:\n",
        "    if edad > media_general:\n",
        "      totales += 1\n",
        "\n",
        "print(f'Hay {totales} personas por encima de la edad media general')"
      ],
      "metadata": {
        "colab": {
          "base_uri": "https://localhost:8080/"
        },
        "id": "D1Secfx8sLLk",
        "outputId": "884dd5bf-eb85-4231-f9d4-4c262e511e97"
      },
      "execution_count": 90,
      "outputs": [
        {
          "output_type": "stream",
          "name": "stdout",
          "text": [
            "La media de edad del sector Setor A es: 39.9\n",
            "La media de edad del sector Setor B es: 42.3\n",
            "La media de edad del sector Setor C es: 35.8\n",
            "La media de edad del sector Setor D es: 36.5\n",
            "La media de edad general en los 4 sectores es: 38.625\n",
            "Hay 18 personas por encima de la edad media general\n"
          ]
        }
      ]
    },
    {
      "cell_type": "markdown",
      "source": [
        "#**Ejercicios para practicar**\n",
        "\n"
      ],
      "metadata": {
        "id": "d7Gx1gc7Kovt"
      }
    },
    {
      "cell_type": "markdown",
      "source": [
        "1 - Escribe un programa que solicite dos números enteros e imprima todos los números enteros entre ellos.\n",
        "\n",
        "2 - Escribe un programa para calcular cuántos días tomará que la colonia de una bacteria A supere o iguale a la colonia de una bacteria B, basado en tasas de crecimiento del 3% y 1.5%, respectivamente. Supón que la colonia A comienza con 4 elementos y B con 10."
      ],
      "metadata": {
        "id": "aQ7v6b3cKyrE"
      }
    },
    {
      "cell_type": "code",
      "source": [
        "n1=int(input('Ingrese el numero menor entero: '))\n",
        "n2=int(input('Ingrese el numero mayor entero: '))\n",
        "for n in range(n1+1,n2):\n",
        "  print(n)"
      ],
      "metadata": {
        "colab": {
          "base_uri": "https://localhost:8080/"
        },
        "id": "S_PUOV56Kz3y",
        "outputId": "337b47ca-68f7-4a9b-899f-3afd161534cd"
      },
      "execution_count": null,
      "outputs": [
        {
          "output_type": "stream",
          "name": "stdout",
          "text": [
            "Ingrese el numero menor entero: 3\n",
            "Ingrese el numero mayor entero: 8\n",
            "4\n",
            "5\n",
            "6\n",
            "7\n"
          ]
        }
      ]
    },
    {
      "cell_type": "code",
      "source": [
        "A=4\n",
        "B=10\n",
        "t_a=0.03\n",
        "t_b=0.015\n",
        "dia=0\n",
        "while  A<=B:\n",
        "  A*=(1+t_a)\n",
        "  B*=(1+t_b)\n",
        "  dia+=1\n",
        "print(f'Tomará {dia} días que la colonia de A supere a la de B')"
      ],
      "metadata": {
        "colab": {
          "base_uri": "https://localhost:8080/"
        },
        "id": "TT6NOv7-LKpM",
        "outputId": "c606071d-80e4-4b2f-afc6-3d946949b08d"
      },
      "execution_count": null,
      "outputs": [
        {
          "output_type": "stream",
          "name": "stdout",
          "text": [
            "Tomará 63 días que la colonia de A supere a la de B\n"
          ]
        }
      ]
    },
    {
      "cell_type": "markdown",
      "source": [
        "3 - Para procesar una cantidad de 15 datos de evaluaciones de usuarios de un servicio de la empresa, necesitamos verificar si las calificaciones son válidas. Por lo tanto, escribe un programa que recibirá calificaciones del 0 al 5 y verificará si son valores válidos. Si se ingresa una calificación superior a 5 o inferior a 0, se repetirá hasta que el usuario ingrese un valor válido."
      ],
      "metadata": {
        "id": "54HCSEB1HsvV"
      }
    },
    {
      "cell_type": "code",
      "source": [
        "for n in range (15):3\n",
        "  calificacion=float(input('Ingrese la calificacion (0-5): '))\n",
        "  while calificacion>5 or calificacion<0:\n",
        "    calificacion=float(input('Ingrese una calificacion valida: '))\n",
        "print('Se ingresaron las 15 calificaciones')\n"
      ],
      "metadata": {
        "id": "TFu-wwwjHu6u",
        "outputId": "382887bd-bae6-41f4-d7bc-56cfc9468686",
        "colab": {
          "base_uri": "https://localhost:8080/"
        }
      },
      "execution_count": null,
      "outputs": [
        {
          "output_type": "stream",
          "name": "stdout",
          "text": [
            "Ingrese la calificacion (0-5): 3\n",
            "Ingrese la calificacion (0-5): 7\n",
            "Ingrese una calificacion valida: 7\n",
            "Ingrese una calificacion valida: 3\n",
            "Ingrese la calificacion (0-5): 4\n",
            "Ingrese la calificacion (0-5): 43\n",
            "Ingrese una calificacion valida: 3\n",
            "Ingrese la calificacion (0-5): 3\n",
            "Ingrese la calificacion (0-5): 3\n",
            "Ingrese la calificacion (0-5): 3\n",
            "Ingrese la calificacion (0-5): 33\n",
            "Ingrese una calificacion valida: 3\n",
            "Ingrese la calificacion (0-5): 3\n",
            "Ingrese la calificacion (0-5): 3\n",
            "Ingrese la calificacion (0-5): 3\n",
            "Ingrese la calificacion (0-5): 3\n",
            "Ingrese la calificacion (0-5): 3\n",
            "Ingrese la calificacion (0-5): 3\n",
            "Ingrese la calificacion (0-5): 3\n",
            "Se ingresaron las 15 calificaciones\n"
          ]
        }
      ]
    },
    {
      "cell_type": "markdown",
      "source": [
        "4 - Desarrolla un programa que lea un conjunto indefinido de temperaturas en grados Celsius y calcule su promedio. La lectura debe detenerse al ingresar el valor -273°C.\n"
      ],
      "metadata": {
        "id": "FOXyLG7RImsG"
      }
    },
    {
      "cell_type": "code",
      "source": [
        "temperatura=float(input('Ingrese la temperatura en grados celsius: '))\n",
        "contador=0\n",
        "suma=0\n",
        "\n",
        "while temperatura != -273:\n",
        "  suma += temperatura\n",
        "  contador += 1\n",
        "  temperatura=float(input('Ingrese la temperatura en grados celsius: '))\n",
        "\n",
        "print('La temperatura ingresada para detenerse fue ingresada')\n",
        "print(f'El promedio de las temperaturas es: {suma/(contador)}')"
      ],
      "metadata": {
        "id": "iqNYYOLuIo9v",
        "outputId": "e9a4783d-cf34-410e-89eb-513201c236fe",
        "colab": {
          "base_uri": "https://localhost:8080/"
        }
      },
      "execution_count": null,
      "outputs": [
        {
          "output_type": "stream",
          "name": "stdout",
          "text": [
            "Ingrese la temperatura en grados celsius: 634\n",
            "Ingrese la temperatura en grados celsius: 34\n",
            "Ingrese la temperatura en grados celsius: 543\n",
            "Ingrese la temperatura en grados celsius: -273\n",
            "La temperatura ingresada para detenerse fue ingresada\n",
            "El promedio de las temperaturas es: 403.6666666666667\n"
          ]
        }
      ]
    },
    {
      "cell_type": "markdown",
      "source": [
        "5 - Escribe un programa que calcule el factorial de un número entero proporcionado por el usuario. Recuerda que el factorial de un número entero es el producto de ese número por todos sus antecesores hasta llegar al número 1. Por ejemplo, el factorial de 5 es 5 x 4 x 3 x 2 x 1 = 120.\n",
        "\n"
      ],
      "metadata": {
        "id": "nJDz94s2KxJT"
      }
    },
    {
      "cell_type": "code",
      "source": [
        "n1=int(input('Ingrese un numero entero: '))\n",
        "factorial=1\n",
        "for n in range(1,n1+1):\n",
        "  factorial*=n\n",
        "print(f'El factorial de {n1} es {factorial}')"
      ],
      "metadata": {
        "id": "tf9BzxTxKx3f",
        "outputId": "df154e26-4035-4c65-c121-5161b43099d5",
        "colab": {
          "base_uri": "https://localhost:8080/"
        }
      },
      "execution_count": null,
      "outputs": [
        {
          "output_type": "stream",
          "name": "stdout",
          "text": [
            "Ingrese un numero entero: 4\n",
            "El factorial de 4 es 24\n"
          ]
        }
      ]
    },
    {
      "cell_type": "markdown",
      "source": [
        "6 - Escribe un programa que genere la tabla de multiplicar de un número entero del 1 al 10, según la elección del usuario. Como ejemplo, para el número 2, la tabla de multiplicar debe mostrarse en el siguiente formato:\n",
        "\n"
      ],
      "metadata": {
        "id": "E9-pLXpALN0c"
      }
    },
    {
      "cell_type": "code",
      "source": [
        "tabla= int(input('Ingrese el numero de la tabla de multiplicar que desea obtener'))\n",
        "print(f'Tabla de multiplicar del {tabla}')\n",
        "for n in range (1,11):\n",
        "  res= n*tabla\n",
        "  print(f'{tabla} x {n} = {res}')"
      ],
      "metadata": {
        "id": "d-8ivijzLQfQ",
        "outputId": "7b248829-432c-4208-832c-05ef4b2cf1a7",
        "colab": {
          "base_uri": "https://localhost:8080/"
        }
      },
      "execution_count": null,
      "outputs": [
        {
          "output_type": "stream",
          "name": "stdout",
          "text": [
            "Ingrese el numero de la tabla de multiplicar que desea obtener4\n",
            "Tabla de multiplicar del 4\n",
            "4 x 1 = 4\n",
            "4 x 2 = 8\n",
            "4 x 3 = 12\n",
            "4 x 4 = 16\n",
            "4 x 5 = 20\n",
            "4 x 6 = 24\n",
            "4 x 7 = 28\n",
            "4 x 8 = 32\n",
            "4 x 9 = 36\n",
            "4 x 10 = 40\n"
          ]
        }
      ]
    },
    {
      "cell_type": "markdown",
      "source": [
        "7 - Los números primos tienen diversas aplicaciones en Ciencia de Datos, como en criptografía y seguridad. Un número primo es aquel que es divisible solo por sí mismo y por 1. Por lo tanto, crea un programa que solicite un número entero y determine si es un número primo o no.\n",
        "\n"
      ],
      "metadata": {
        "id": "_eJkQhnsM0Th"
      }
    },
    {
      "cell_type": "code",
      "source": [
        "primo=int(input('Ingrese un numero entero: '))\n",
        "if primo==1:\n",
        "  print(f'{primo} no es un numero primo')\n",
        "else:\n",
        "  for n in range(2,primo):\n",
        "    if primo%n==0:\n",
        "      print(f'{primo} no es un numero primo')\n",
        "      break\n",
        "  else:\n",
        "    print(f'{primo} es un numero primo')"
      ],
      "metadata": {
        "id": "VU1rvqM2M1TO",
        "outputId": "116c2a3b-b28d-45d8-eee8-fb98cb6f62d2",
        "colab": {
          "base_uri": "https://localhost:8080/"
        }
      },
      "execution_count": null,
      "outputs": [
        {
          "output_type": "stream",
          "name": "stdout",
          "text": [
            "Ingrese un numero entero: 5\n",
            "5 es un numero primo\n"
          ]
        }
      ]
    },
    {
      "cell_type": "markdown",
      "source": [
        "8 - Vamos a comprender la distribución de edades de los pensionistas de una empresa de seguros. Escribe un programa que lea las edades de una cantidad no informada de clientes y muestre la distribución en los intervalos [0-25], [26-50], [51-75] y [76-100]. La entrada de datos se detendrá al ingresar un número negativo.\n",
        "\n"
      ],
      "metadata": {
        "id": "983rC1XPN3op"
      }
    },
    {
      "cell_type": "code",
      "source": [
        "edad=int(input('Ingrese la edad del pensionado: '))\n",
        "while edad>=0:\n",
        "  if edad>=0 and edad<=25:\n",
        "    print('[0-25]')\n",
        "  elif edad>=26 and edad<=50:\n",
        "    print('[26-50]')\n",
        "  elif edad>=51 and edad<=75:\n",
        "    print('[51-75]')\n",
        "  elif edad>=76 and edad<=100:\n",
        "    print('[76-100]')\n",
        "  else:\n",
        "    print('Edad invalida')\n",
        "  edad=int(input('Ingrese la edad del pensionado: '))"
      ],
      "metadata": {
        "id": "M9mrZ9pRN4_A",
        "outputId": "9ce74934-9eda-466f-d9d4-4aa06346831b",
        "colab": {
          "base_uri": "https://localhost:8080/"
        }
      },
      "execution_count": null,
      "outputs": [
        {
          "name": "stdout",
          "output_type": "stream",
          "text": [
            "Ingrese la edad del pensionado: 35\n",
            "[26-50]\n",
            "Ingrese la edad del pensionado: 3\n",
            "[0-25]\n",
            "Ingrese la edad del pensionado: 74\n",
            "[51-75]\n",
            "Ingrese la edad del pensionado: 100\n",
            "[76-100]\n",
            "Ingrese la edad del pensionado: 150\n",
            "Edad invalida\n",
            "Ingrese la edad del pensionado: -3\n"
          ]
        }
      ]
    },
    {
      "cell_type": "markdown",
      "source": [
        "9 - En una elección para la gerencia de una empresa con 20 empleados, hay cuatro candidatos. Escribe un programa que calcule al ganador de la elección. La votación se realizó de la siguiente manera:\n",
        "\n",
        "Cada empleado votó por uno de los cuatro candidatos (representados por los números 1, 2, 3 y 4).\n",
        "\n",
        "También se contaron los votos nulos (representados por el número 5) y los votos en blanco (representados por el número 6).\n",
        "\n",
        "Al final de la votación, el programa debe mostrar el número total de votos para cada candidato, los votos nulos y los votos en blanco. Además, debe calcular y mostrar el porcentaje de votos nulos con respecto al total de votos y el porcentaje de votos en blanco con respecto al total de votos."
      ],
      "metadata": {
        "id": "dDcVHfgUOa1-"
      }
    },
    {
      "cell_type": "code",
      "source": [
        "v1=0\n",
        "v2=0\n",
        "v3=0\n",
        "v4=0\n",
        "vn=0\n",
        "vb=0\n",
        "for n in range(0,20):\n",
        "  voto=int(input('Ingrese el numero del candidato votado (1-4): '))\n",
        "\n",
        "  if voto==1:\n",
        "    v1+=1\n",
        "  elif voto==2:\n",
        "    v2+=1\n",
        "  elif voto==3:\n",
        "    v3+=1\n",
        "  elif voto==4:\n",
        "    v4+=1\n",
        "  elif voto>=5:\n",
        "    vn+=1\n",
        "  elif voto==6:\n",
        "    vb+=1\n",
        "  else:\n",
        "    print('Voto invalido')\n",
        "print(f'El candidato 1 obtuvo {v1} votos')\n",
        "print(f'El candidato 2 obtuvo {v2} votos')\n",
        "print(f'El candidato 3 obtuvo {v3} votos')\n",
        "print(f'El candidato 4 obtuvo {v4} votos')\n",
        "print(f'Hubo {vn} votos nulos')\n",
        "print(f'Hubo {vb} votos en blanco')\n",
        "\n",
        "\n",
        "\n"
      ],
      "metadata": {
        "id": "lfB_PDNCOb_n",
        "outputId": "b85a7aa0-bfe2-473e-f760-ce84bb33cad8",
        "colab": {
          "base_uri": "https://localhost:8080/"
        }
      },
      "execution_count": null,
      "outputs": [
        {
          "output_type": "stream",
          "name": "stdout",
          "text": [
            "Ingrese el numero del candidato votado (1-4): 4\n",
            "Ingrese el numero del candidato votado (1-4): 4\n",
            "Ingrese el numero del candidato votado (1-4): 4\n",
            "Ingrese el numero del candidato votado (1-4): 4\n",
            "Ingrese el numero del candidato votado (1-4): 4\n",
            "Ingrese el numero del candidato votado (1-4): 4\n",
            "Ingrese el numero del candidato votado (1-4): 3\n",
            "Ingrese el numero del candidato votado (1-4): 2\n",
            "Ingrese el numero del candidato votado (1-4): 1\n",
            "Ingrese el numero del candidato votado (1-4): 4\n",
            "Ingrese el numero del candidato votado (1-4): 3\n",
            "Ingrese el numero del candidato votado (1-4): 2\n",
            "Ingrese el numero del candidato votado (1-4): 5\n",
            "Ingrese el numero del candidato votado (1-4): 6\n",
            "Ingrese el numero del candidato votado (1-4): 4\n",
            "Ingrese el numero del candidato votado (1-4): 7\n",
            "Ingrese el numero del candidato votado (1-4): 2\n",
            "Ingrese el numero del candidato votado (1-4): 4\n",
            "Ingrese el numero del candidato votado (1-4): 1\n",
            "Ingrese el numero del candidato votado (1-4): 1\n",
            "El candidato 1 obtuvo 3 votos\n",
            "El candidato 2 obtuvo 3 votos\n",
            "El candidato 3 obtuvo 2 votos\n",
            "El candidato 4 obtuvo 9 votos\n",
            "Hubo 3 votos nulos\n",
            "Hubo 0 votos en blanco\n"
          ]
        }
      ]
    },
    {
      "cell_type": "markdown",
      "source": [
        "#***Momento de los proyectos***\n",
        "\n"
      ],
      "metadata": {
        "id": "M6sqOGjp9n1v"
      }
    },
    {
      "cell_type": "markdown",
      "source": [
        "Un programa debe ser escrito para leer dos números y luego preguntar a la persona usuaria qué operación desea realizar. El resultado de la operación debe incluir información sobre el número, si es par o impar, positivo o negativo, e entero o decimal."
      ],
      "metadata": {
        "id": "R1dvyXM29t54"
      }
    },
    {
      "cell_type": "code",
      "source": [
        "n1=float(input('Ingrese el primer número: '))\n",
        "n2=float(input('Ingrese el segundo número: '))\n",
        "operacion= input('Ingrese la operación que desea realizar:(+,-,/,*) ')\n",
        "if operacion == '+':\n",
        "  res=n1+n2\n",
        "elif operacion == '-':\n",
        "  res=n1-n2\n",
        "elif operacion == '/':\n",
        "  res=n1/n2\n",
        "elif operacion == '*':\n",
        "  res=n1*n2\n",
        "else:\n",
        "  print('Operacion invalida')\n",
        "if res%2==0:\n",
        "  print(f'El resultado es {res} y es par')\n",
        "else:\n",
        "  print(f'El resultado es {res} y es impar')\n",
        "if res>0:\n",
        "  print(f'El resultado es positivo')\n",
        "else:\n",
        "  print(f'El resultado es negativo')\n",
        "if res%1==0:\n",
        "  print(f'El resultado es entero')\n",
        "else:\n",
        "  print(f'El resultado es decimal')"
      ],
      "metadata": {
        "id": "ER2L5PyU90gq",
        "outputId": "a43c649e-3b7f-4b47-ed7e-8df100be1e06",
        "colab": {
          "base_uri": "https://localhost:8080/"
        }
      },
      "execution_count": null,
      "outputs": [
        {
          "output_type": "stream",
          "name": "stdout",
          "text": [
            "Ingrese el primer número: 345\n",
            "Ingrese el segundo número: -53\n",
            "Ingrese la operación que desea realizar:(+,-,/,*) /\n",
            "El resultado es -6.509433962264151 y es impar\n",
            "El resultado es negativo\n",
            "El resultado es decimal\n"
          ]
        }
      ]
    },
    {
      "cell_type": "markdown",
      "source": [
        "####Escribe un programa que pida a la persona usuaria tres números que representan los lados de un triángulo. El programa debe informar si los valores pueden utilizarse para formar un triángulo y, en caso afirmativo, si es equilátero, isósceles o escaleno. Ten en cuenta algunas sugerencias:\n",
        "\n",
        "\n",
        "*   Tres lados forman un triángulo cuando la suma de cualesquiera dos lados es mayor que el tercero;\n",
        "\n",
        "*   Triángulo Equilátero: tres lados iguales;\n",
        "\n",
        "\n",
        "*   Triángulo Isósceles: dos lados iguales;\n",
        "*   Triángulo Escaleno: tres lados diferentes.\n"
      ],
      "metadata": {
        "id": "P6Ztuixa_bqm"
      }
    },
    {
      "cell_type": "code",
      "source": [
        "print('Ingrese los lados del triangulo')\n",
        "l1=float(input('Ingrese el primer lado: '))\n",
        "l2=float(input('Ingrese el segundo lado: '))\n",
        "l3=float(input('Ingrese el tercer lado: '))\n",
        "if l1+l2>l3 and l1+l3>l2 and l2+l3>l1:\n",
        "  print('Los lados forman un triangulo')\n",
        "  if l1==l2==l3:\n",
        "    print('El triangulo es equilatero')\n",
        "  elif l1==l2 or l1==l3 or l2==l3:\n",
        "    print('El triangulo es isoceles')\n",
        "  else:\n",
        "    print('El triangulo es escaleno')\n",
        "else:\n",
        "  print('Los lados no forman un triangulo')"
      ],
      "metadata": {
        "id": "z2FmZMjI__Dn",
        "outputId": "f38dd914-f667-4277-dcc8-db33bec5338d",
        "colab": {
          "base_uri": "https://localhost:8080/"
        }
      },
      "execution_count": null,
      "outputs": [
        {
          "output_type": "stream",
          "name": "stdout",
          "text": [
            "Ingrese los lados del triangulo\n",
            "Ingrese el primer lado: 1\n",
            "Ingrese el segundo lado: 2\n",
            "Ingrese el tercer lado: 5\n",
            "Los lados no forman un triangulo\n"
          ]
        }
      ]
    },
    {
      "cell_type": "markdown",
      "source": [
        "####Un establecimiento está vendiendo combustibles con descuentos variables. Para el etanol, si la cantidad comprada es de hasta 15 litros, el descuento será del 2% por litro. En caso contrario, será del 4% por litro. Para el diésel, si la cantidad comprada es de hasta 15 litros, el descuento será del 3% por litro. En caso contrario, será del 5% por litro. El precio por litro de diésel es de R$ 2,00 y el precio por litro de etanol es de R$ 1,70. Escribe un programa que lea la cantidad de litros vendidos y el tipo de combustible (E para etanol y D para diésel) y calcule el valor a pagar por el cliente. Ten en cuenta algunas sugerencias:\n",
        "\n",
        "\n",
        "*   El valor del descuento será el producto del precio por litro, la cantidad de litros y el valor del descuento.\n",
        "*   El valor a pagar por un cliente será el resultado de la multiplicación del precio por litro por la cantidad de litros menos el valor del descuento resultante del cálculo.\n",
        "\n"
      ],
      "metadata": {
        "id": "ATkWQjbIBKKc"
      }
    },
    {
      "cell_type": "code",
      "source": [
        "lt=float(input('Ingrese la cantidad de litros vendidos: '))\n",
        "tipo=input('Ingrese el tipo de combustible (E para etanol y D para diésel): ')\n",
        "if tipo=='E':\n",
        "  precio=1.7\n",
        "  if lt<=15:\n",
        "    des=0.02\n",
        "  else:\n",
        "    des=0.04\n",
        "elif tipo=='D':\n",
        "  precio=2\n",
        "  if lt<=15:\n",
        "    des=0.03\n",
        "  else:\n",
        "    des=0.05\n",
        "else:\n",
        "  print('No se encontro el producto')\n",
        "  lt=0\n",
        "  des=0\n",
        "descuento=precio*lt*des\n",
        "total=precio*lt-descuento\n",
        "print(f'El valor a pagar por el cliente es {total}')\n"
      ],
      "metadata": {
        "id": "MGzs92i0BTSq",
        "outputId": "8876c108-f6a2-415d-8836-4c4c99497fdb",
        "colab": {
          "base_uri": "https://localhost:8080/"
        }
      },
      "execution_count": null,
      "outputs": [
        {
          "output_type": "stream",
          "name": "stdout",
          "text": [
            "Ingrese la cantidad de litros vendidos: 76\n",
            "Ingrese el tipo de combustible (E para etanol y D para diésel): D\n",
            "El valor a pagar por el cliente es 144.4\n"
          ]
        }
      ]
    },
    {
      "cell_type": "markdown",
      "source": [
        "####En una empresa de venta de bienes raíces, debes crear un código que analice los datos de ventas anuales para ayudar a la dirección en la toma de decisiones. El código debe recopilar los datos de cantidad de ventas durante los años 2022 y 2023 y calcular la variación porcentual. A partir del valor de la variación, se deben proporcionar las siguientes sugerencias:\n",
        "\n",
        "Para una variación superior al 20%: bonificación para el equipo de ventas.\n",
        "\n",
        "Para una variación entre el 2% y el 20%: pequeña bonificación para el equipo de ventas.\n",
        "\n",
        "Para una variación entre el 2% y el -10%: planificación de políticas de incentivo a las ventas.\n",
        "\n",
        "Para bonificaciones inferiores al -10%: recorte de gastos."
      ],
      "metadata": {
        "id": "rfORij5pC-iM"
      }
    },
    {
      "cell_type": "code",
      "source": [
        "gan_22=float(input('Ingrese las ganancias del año 2022: '))\n",
        "gan_23=float(input('Ingrese las ganancias del año 2023: '))\n",
        "variacion=(gan_23-gan_22)/gan_22\n",
        "if variacion>0.2:\n",
        "  print('Bonificación para el equipo de ventas')\n",
        "elif 0.2>=variacion>0.02:\n",
        "  print('Pequena bonificacion para el equipo de ventas')\n",
        "elif 0.02>=variacion>-0.1:\n",
        "  print('Planificación de políticas de incentivo a las ventas')\n",
        "elif variacion<-.01:\n",
        "  print('Recorte de gastos')"
      ],
      "metadata": {
        "id": "w6gQ3PujDHGD",
        "outputId": "76948234-fefb-4b79-d350-c3a8347a2545",
        "colab": {
          "base_uri": "https://localhost:8080/"
        }
      },
      "execution_count": null,
      "outputs": [
        {
          "output_type": "stream",
          "name": "stdout",
          "text": [
            "Ingrese las ganancias del año 2022: 324\n",
            "Ingrese las ganancias del año 2023: 23\n",
            "Recorte de gastos\n"
          ]
        }
      ]
    },
    {
      "cell_type": "markdown",
      "source": [
        "#**Ejercicios para practicas**"
      ],
      "metadata": {
        "id": "HqvmBhxw2NDB"
      }
    },
    {
      "cell_type": "markdown",
      "source": [
        "1 - Escribe un programa que pida a la persona usuaria que proporcione dos números y muestre el número más grande.\n",
        "\n",
        "2 - Escribe un programa que solicite el porcentaje de crecimiento de producción de una empresa e informe si hubo un crecimiento (porcentaje positivo) o una disminución (porcentaje negativo).\n",
        "\n",
        "3 - Escribe un programa que determine si una letra proporcionada por la persona usuaria es una vocal o una consonante."
      ],
      "metadata": {
        "id": "5ifJccWD2T1Y"
      }
    },
    {
      "cell_type": "code",
      "source": [
        "n1=int(input('Escribe el primer número entero: '))\n",
        "n2=int(input('Escribe el segundo número entero: '))\n",
        "if n1>n2:\n",
        "  print(f'El número mayor es {n1}')\n",
        "else:\n",
        "  print(f'El número mayor es {n2}')"
      ],
      "metadata": {
        "colab": {
          "base_uri": "https://localhost:8080/"
        },
        "id": "aswvbfiL2S3x",
        "outputId": "51481a5d-79fc-4892-98da-3297107a9599"
      },
      "execution_count": null,
      "outputs": [
        {
          "output_type": "stream",
          "name": "stdout",
          "text": [
            "Escribe el primer número entero: 4\n",
            "Escribe el segundo número entero: 2\n",
            "El número mayor es 4\n"
          ]
        }
      ]
    },
    {
      "cell_type": "code",
      "source": [
        "crecimiento=int(input('Escribe el porcentaje de crecimiento de produccion:'))\n",
        "if crecimiento>0:\n",
        "  print('Hubo un crecimiento')\n",
        "elif crecimiento==0:\n",
        "  print('Se mantuvo igual')\n",
        "else:\n",
        "  print('Hubo una disminución')"
      ],
      "metadata": {
        "colab": {
          "base_uri": "https://localhost:8080/"
        },
        "id": "22sThui12x2G",
        "outputId": "81996787-2233-401c-f284-0a9615826198"
      },
      "execution_count": null,
      "outputs": [
        {
          "output_type": "stream",
          "name": "stdout",
          "text": [
            "Escribe el porcentaje de crecimiento de produccion:-6\n",
            "Hubo una disminución\n"
          ]
        }
      ]
    },
    {
      "cell_type": "code",
      "source": [
        "letra=input('Escribe una letra: ')\n",
        "if letra in 'aeiou':\n",
        "  print('Es una vocal')\n",
        "else:\n",
        "  print('Es una consonante')"
      ],
      "metadata": {
        "colab": {
          "base_uri": "https://localhost:8080/"
        },
        "id": "Yrd18v5s4Pr-",
        "outputId": "1be2e1a6-f02e-47f6-c050-6cd155aee66b"
      },
      "execution_count": null,
      "outputs": [
        {
          "output_type": "stream",
          "name": "stdout",
          "text": [
            "Escribe una letra: e\n",
            "Es una vocal\n"
          ]
        }
      ]
    },
    {
      "cell_type": "markdown",
      "source": [
        "4 - Escribe un programa que lea valores promedio de precios de un modelo de automóvil durante 3 años consecutivos y muestre el valor más alto y más bajo entre esos tres años.\n",
        "\n"
      ],
      "metadata": {
        "id": "ZsqDx8QT4bON"
      }
    },
    {
      "cell_type": "code",
      "source": [
        "v1=3400\n",
        "v2=2400\n",
        "v3=1000\n",
        "mayor=v1\n",
        "menor=v1\n",
        "if v2>mayor:\n",
        "  mayor=v2\n",
        "if v3>mayor:\n",
        "  mayor=v3\n",
        "if v2<menor:\n",
        "  menor=v2\n",
        "if v3<menor:\n",
        "  menor=v3\n",
        "  print(f'El precio más alto es {mayor}')\n",
        "  print(f'El precio más bajo es {menor}')"
      ],
      "metadata": {
        "colab": {
          "base_uri": "https://localhost:8080/"
        },
        "id": "91XCEDHF4dTX",
        "outputId": "6093b9cf-60e8-4eee-c4a1-71d0dafa4d83"
      },
      "execution_count": null,
      "outputs": [
        {
          "output_type": "stream",
          "name": "stdout",
          "text": [
            "El precio más alto es 3400\n",
            "El precio más bajo es 1000\n"
          ]
        }
      ]
    },
    {
      "cell_type": "markdown",
      "source": [
        "5 - Escribe un programa que pregunte sobre el precio de tres productos e indique cuál es el producto más barato para comprar.\n",
        "\n",
        "6 - Escribe un programa que lea tres números y los muestre en orden descendente."
      ],
      "metadata": {
        "id": "aogj5AcF5unX"
      }
    },
    {
      "cell_type": "code",
      "source": [
        "p1=float(input('Escribe el precio del primer producto: '))\n",
        "p2=float(input('Escribe el precio del segundo producto: '))\n",
        "p3=float(input('Escribe el precio del tercer producto: '))\n",
        "barato=p1\n",
        "if p2<barato:\n",
        "  barato=p2\n",
        "if p3<barato:\n",
        "  barato=p3\n",
        "if barato==p1:\n",
        "  print(f'El producto más barato es el primero')\n",
        "elif barato==p2:\n",
        "  print(f'El producto más barato es el segundo')\n",
        "else:\n",
        "  print(f'El producto más barato es el tercero')"
      ],
      "metadata": {
        "id": "5dHTilkY5vyU",
        "outputId": "0906030b-ee9c-4bac-94a2-7ce892be7050",
        "colab": {
          "base_uri": "https://localhost:8080/"
        }
      },
      "execution_count": null,
      "outputs": [
        {
          "output_type": "stream",
          "name": "stdout",
          "text": [
            "Escribe el precio del primer producto: 5345\n",
            "Escribe el precio del segundo producto: 453\n",
            "Escribe el precio del tercer producto: 43\n",
            "El producto más barato es el tercero\n"
          ]
        }
      ]
    },
    {
      "cell_type": "code",
      "source": [
        "n1=int(input('Escribe el primer número: '))\n",
        "n2=int(input('Escribe el segundo número: '))\n",
        "n3=int(input('Escribe el tercer número: '))\n",
        "if n1>n2 and n1>n3:\n",
        "  print(n1)\n",
        "  if n2>n3:\n",
        "    print(n2)\n",
        "    print(n3)\n",
        "  else:\n",
        "    print(n3)\n",
        "    print(n2)\n",
        "elif n2>n1 and n2>n3:\n",
        "  print(n2)\n",
        "  if n1>n3:\n",
        "    print(n1)\n",
        "    print(n3)\n",
        "  else:\n",
        "    print(n3)\n",
        "    print(n1)\n",
        "else:\n",
        "  print(n3)\n",
        "  if n1>n2:\n",
        "    print(n1)\n",
        "    print(n2)\n",
        "  else:\n",
        "    print(n2)\n",
        "    print(n1)"
      ],
      "metadata": {
        "id": "-8ElK9qc7qrZ",
        "outputId": "ea54aeed-92b0-4312-e8bb-1c3b0d7f0612",
        "colab": {
          "base_uri": "https://localhost:8080/"
        }
      },
      "execution_count": null,
      "outputs": [
        {
          "output_type": "stream",
          "name": "stdout",
          "text": [
            "Escribe el primer número: 5\n",
            "Escribe el segundo número: 2\n",
            "Escribe el tercer número: 65\n",
            "65\n",
            "5\n",
            "2\n"
          ]
        }
      ]
    },
    {
      "cell_type": "markdown",
      "source": [
        "7 -Escribe un programa que pregunte en qué turno estudia la persona usuaria (\"mañana\", \"tarde\" o \"noche\") y muestre el mensaje \"¡Buenos Días!\", \"¡Buenas Tardes!\", \"¡Buenas Noches!\" o \"Valor Inválido!\", según el caso.\n",
        "\n",
        "8 - Escribe un programa que solicite un número entero a la persona usuaria y determine si es par o impar. Pista: Puedes usar el operador módulo (%).\n",
        "\n",
        "9 - Escribe un programa que pida un número a la persona usuaria y le informe si es entero o decimal."
      ],
      "metadata": {
        "id": "QR_NwqUc8Q5m"
      }
    },
    {
      "cell_type": "code",
      "source": [
        "turno=input('Escribe el turno que estudias: ')\n",
        "if turno=='mañana':\n",
        "  print('¡Buenos días!')\n",
        "elif turno=='tarde':\n",
        "  print('¡Buenas tardes!')\n",
        "elif turno=='noche':\n",
        "  print('¡Buenas noches!')\n",
        "else:\n",
        "  print('Valor inválido')"
      ],
      "metadata": {
        "id": "R-08Ffz98T0O",
        "outputId": "8c31d365-208c-4b6a-c0fd-fb976222c5c1",
        "colab": {
          "base_uri": "https://localhost:8080/"
        }
      },
      "execution_count": null,
      "outputs": [
        {
          "output_type": "stream",
          "name": "stdout",
          "text": [
            "Escribe el turno que estudias: noche\n",
            "¡Buenas noches!\n"
          ]
        }
      ]
    },
    {
      "cell_type": "code",
      "source": [
        "n1=int(input('Ingrese un numero entero:'))\n",
        "if n1%2==0:\n",
        "  print('El número es par')\n",
        "else:\n",
        "  print('El número es impar')"
      ],
      "metadata": {
        "id": "XdxEcqzP8h2K",
        "outputId": "5f0dde85-14ca-4e89-93b5-6ec6d6f9c15e",
        "colab": {
          "base_uri": "https://localhost:8080/"
        }
      },
      "execution_count": null,
      "outputs": [
        {
          "output_type": "stream",
          "name": "stdout",
          "text": [
            "Ingrese un numero entero:4\n",
            "El número es par\n"
          ]
        }
      ]
    },
    {
      "cell_type": "code",
      "source": [
        "n1=float(input('Ingrese un numero:'))\n",
        "if n1%1==0:\n",
        "  print('El número es entero')\n",
        "else:\n",
        "  print('El número es decimal')"
      ],
      "metadata": {
        "id": "Q-CsfiSB80xt",
        "outputId": "7bd9c1b2-751e-43d0-d083-8bbbac13a8a8",
        "colab": {
          "base_uri": "https://localhost:8080/"
        }
      },
      "execution_count": null,
      "outputs": [
        {
          "output_type": "stream",
          "name": "stdout",
          "text": [
            "Ingrese un numero:4.6\n",
            "El número es decimal\n"
          ]
        }
      ]
    },
    {
      "cell_type": "markdown",
      "source": [
        "Un programa debe ser escrito para leer dos números y luego preguntar a la persona usuaria qué operación desea realizar. El resultado de la operación debe incluir información sobre el número, si es par o impar, positivo o negativo, e entero o decimal."
      ],
      "metadata": {
        "id": "P7GKVxBtXPry"
      }
    },
    {
      "cell_type": "code",
      "source": [
        "n1=float(input('Ingrese el primer número: '))\n",
        "n2=float(input('Ingrese el segundo número: '))\n",
        "operacion= input('Ingrese la operación que desea realizar:(+,-,/,*) ')\n",
        "if operacion == '+':\n",
        "  res=n1+n2\n",
        "elif operacion == '-':\n",
        "  res=n1-n2\n",
        "elif operacion == '/':\n",
        "  res=n1/n2\n",
        "elif operacion == '*':\n",
        "  res=n1*n2\n",
        "else:\n",
        "  print('Operacion invalida')\n",
        "if res%2==0:\n",
        "  print(f'El resultado es {res} y es par')\n",
        "else:\n",
        "  print(f'El resultado es {res} y es impar')\n",
        "if res>0:\n",
        "  print(f'El resultado es positivo')\n",
        "else:\n",
        "  print(f'El resultado es negativo')\n",
        "if res%1==0:\n",
        "  print(f'El resultado es entero')\n",
        "else:\n",
        "  print(f'El resultado es decimal')"
      ],
      "metadata": {
        "outputId": "a43c649e-3b7f-4b47-ed7e-8df100be1e06",
        "colab": {
          "base_uri": "https://localhost:8080/"
        },
        "id": "s8xAJgfpXPry"
      },
      "execution_count": null,
      "outputs": [
        {
          "output_type": "stream",
          "name": "stdout",
          "text": [
            "Ingrese el primer número: 345\n",
            "Ingrese el segundo número: -53\n",
            "Ingrese la operación que desea realizar:(+,-,/,*) /\n",
            "El resultado es -6.509433962264151 y es impar\n",
            "El resultado es negativo\n",
            "El resultado es decimal\n"
          ]
        }
      ]
    },
    {
      "cell_type": "markdown",
      "source": [
        "####Escribe un programa que pida a la persona usuaria tres números que representan los lados de un triángulo. El programa debe informar si los valores pueden utilizarse para formar un triángulo y, en caso afirmativo, si es equilátero, isósceles o escaleno. Ten en cuenta algunas sugerencias:\n",
        "\n",
        "\n",
        "*   Tres lados forman un triángulo cuando la suma de cualesquiera dos lados es mayor que el tercero;\n",
        "\n",
        "*   Triángulo Equilátero: tres lados iguales;\n",
        "\n",
        "\n",
        "*   Triángulo Isósceles: dos lados iguales;\n",
        "*   Triángulo Escaleno: tres lados diferentes.\n"
      ],
      "metadata": {
        "id": "cQsZW6bPXPrz"
      }
    },
    {
      "cell_type": "code",
      "source": [
        "print('Ingrese los lados del triangulo')\n",
        "l1=float(input('Ingrese el primer lado: '))\n",
        "l2=float(input('Ingrese el segundo lado: '))\n",
        "l3=float(input('Ingrese el tercer lado: '))\n",
        "if l1+l2>l3 and l1+l3>l2 and l2+l3>l1:\n",
        "  print('Los lados forman un triangulo')\n",
        "  if l1==l2==l3:\n",
        "    print('El triangulo es equilatero')\n",
        "  elif l1==l2 or l1==l3 or l2==l3:\n",
        "    print('El triangulo es isoceles')\n",
        "  else:\n",
        "    print('El triangulo es escaleno')\n",
        "else:\n",
        "  print('Los lados no forman un triangulo')"
      ],
      "metadata": {
        "outputId": "f38dd914-f667-4277-dcc8-db33bec5338d",
        "colab": {
          "base_uri": "https://localhost:8080/"
        },
        "id": "ejLuoMOnXPr0"
      },
      "execution_count": null,
      "outputs": [
        {
          "output_type": "stream",
          "name": "stdout",
          "text": [
            "Ingrese los lados del triangulo\n",
            "Ingrese el primer lado: 1\n",
            "Ingrese el segundo lado: 2\n",
            "Ingrese el tercer lado: 5\n",
            "Los lados no forman un triangulo\n"
          ]
        }
      ]
    },
    {
      "cell_type": "markdown",
      "source": [
        "####Un establecimiento está vendiendo combustibles con descuentos variables. Para el etanol, si la cantidad comprada es de hasta 15 litros, el descuento será del 2% por litro. En caso contrario, será del 4% por litro. Para el diésel, si la cantidad comprada es de hasta 15 litros, el descuento será del 3% por litro. En caso contrario, será del 5% por litro. El precio por litro de diésel es de R$ 2,00 y el precio por litro de etanol es de R$ 1,70. Escribe un programa que lea la cantidad de litros vendidos y el tipo de combustible (E para etanol y D para diésel) y calcule el valor a pagar por el cliente. Ten en cuenta algunas sugerencias:\n",
        "\n",
        "\n",
        "*   El valor del descuento será el producto del precio por litro, la cantidad de litros y el valor del descuento.\n",
        "*   El valor a pagar por un cliente será el resultado de la multiplicación del precio por litro por la cantidad de litros menos el valor del descuento resultante del cálculo.\n",
        "\n"
      ],
      "metadata": {
        "id": "xp7B5DMKXPr0"
      }
    },
    {
      "cell_type": "code",
      "source": [
        "lt=float(input('Ingrese la cantidad de litros vendidos: '))\n",
        "tipo=input('Ingrese el tipo de combustible (E para etanol y D para diésel): ')\n",
        "if tipo=='E':\n",
        "  precio=1.7\n",
        "  if lt<=15:\n",
        "    des=0.02\n",
        "  else:\n",
        "    des=0.04\n",
        "elif tipo=='D':\n",
        "  precio=2\n",
        "  if lt<=15:\n",
        "    des=0.03\n",
        "  else:\n",
        "    des=0.05\n",
        "else:\n",
        "  print('No se encontro el producto')\n",
        "  lt=0\n",
        "  des=0\n",
        "descuento=precio*lt*des\n",
        "total=precio*lt-descuento\n",
        "print(f'El valor a pagar por el cliente es {total}')\n"
      ],
      "metadata": {
        "outputId": "8876c108-f6a2-415d-8836-4c4c99497fdb",
        "colab": {
          "base_uri": "https://localhost:8080/"
        },
        "id": "ihbJAfgFXPr1"
      },
      "execution_count": null,
      "outputs": [
        {
          "output_type": "stream",
          "name": "stdout",
          "text": [
            "Ingrese la cantidad de litros vendidos: 76\n",
            "Ingrese el tipo de combustible (E para etanol y D para diésel): D\n",
            "El valor a pagar por el cliente es 144.4\n"
          ]
        }
      ]
    },
    {
      "cell_type": "markdown",
      "source": [
        "####En una empresa de venta de bienes raíces, debes crear un código que analice los datos de ventas anuales para ayudar a la dirección en la toma de decisiones. El código debe recopilar los datos de cantidad de ventas durante los años 2022 y 2023 y calcular la variación porcentual. A partir del valor de la variación, se deben proporcionar las siguientes sugerencias:\n",
        "\n",
        "Para una variación superior al 20%: bonificación para el equipo de ventas.\n",
        "\n",
        "Para una variación entre el 2% y el 20%: pequeña bonificación para el equipo de ventas.\n",
        "\n",
        "Para una variación entre el 2% y el -10%: planificación de políticas de incentivo a las ventas.\n",
        "\n",
        "Para bonificaciones inferiores al -10%: recorte de gastos."
      ],
      "metadata": {
        "id": "z01xV_c-XPr1"
      }
    },
    {
      "cell_type": "code",
      "source": [
        "gan_22=float(input('Ingrese las ganancias del año 2022: '))\n",
        "gan_23=float(input('Ingrese las ganancias del año 2023: '))\n",
        "variacion=(gan_23-gan_22)/gan_22\n",
        "if variacion>0.2:\n",
        "  print('Bonificación para el equipo de ventas')\n",
        "elif 0.2>=variacion>0.02:\n",
        "  print('Pequena bonificacion para el equipo de ventas')\n",
        "elif 0.02>=variacion>-0.1:\n",
        "  print('Planificación de políticas de incentivo a las ventas')\n",
        "elif variacion<-.01:\n",
        "  print('Recorte de gastos')"
      ],
      "metadata": {
        "outputId": "76948234-fefb-4b79-d350-c3a8347a2545",
        "colab": {
          "base_uri": "https://localhost:8080/"
        },
        "id": "ikfxDWXgXPr2"
      },
      "execution_count": null,
      "outputs": [
        {
          "output_type": "stream",
          "name": "stdout",
          "text": [
            "Ingrese las ganancias del año 2022: 324\n",
            "Ingrese las ganancias del año 2023: 23\n",
            "Recorte de gastos\n"
          ]
        }
      ]
    },
    {
      "cell_type": "markdown",
      "source": [
        "#**Ejercicios para reforzar**\n"
      ],
      "metadata": {
        "id": "rjMATVphcjxJ"
      }
    },
    {
      "cell_type": "markdown",
      "source": [
        "1 - Crea un programa que solicite al usuario que escriba su nombre y luego imprima \"Hola, [nombre].\"\n",
        "\n",
        "\n"
      ],
      "metadata": {
        "id": "BKbYM2u7cw-3"
      }
    },
    {
      "cell_type": "code",
      "source": [
        "nombre= input('Escribe tu nombre: ')\n",
        "print(f'Hola, {nombre}')"
      ],
      "metadata": {
        "colab": {
          "base_uri": "https://localhost:8080/"
        },
        "id": "hsLsb0u8czYc",
        "outputId": "a776a512-e47b-4e03-a2dd-d246e55f2951"
      },
      "execution_count": null,
      "outputs": [
        {
          "output_type": "stream",
          "name": "stdout",
          "text": [
            "Escribe tu nombre: Alan\n",
            "Hola, Alan\n"
          ]
        }
      ]
    },
    {
      "cell_type": "markdown",
      "source": [
        "2 - Crea un programa que solicite al usuario que escriba su nombre y edad, y luego imprima \"Hola, [nombre], tienes [edad] años.\"\n",
        "\n"
      ],
      "metadata": {
        "id": "cfKUPtCac6Xz"
      }
    },
    {
      "cell_type": "code",
      "source": [
        "nombre= input('Escribe tu nombre: ')\n",
        "edad= input('Escribe tu edad: ')\n",
        "print(f'Hola, {nombre}, tienes {edad} años.')"
      ],
      "metadata": {
        "colab": {
          "base_uri": "https://localhost:8080/"
        },
        "id": "cMD2ZyMbc7hb",
        "outputId": "90b18bd3-12d7-42aa-87a3-751c13cfab9b"
      },
      "execution_count": null,
      "outputs": [
        {
          "output_type": "stream",
          "name": "stdout",
          "text": [
            "Escribe tu nombre: Mar\n",
            "Escribe tu edad: 3\n",
            "Hola, Mar, tienes 3 años.\n"
          ]
        }
      ]
    },
    {
      "cell_type": "markdown",
      "source": [
        "3 - Crea un programa que solicite al usuario que escriba su nombre, edad y altura en metros, y luego imprima \"Hola, [nombre], tienes [edad] años y mides [altura] metros.\"\n",
        "\n"
      ],
      "metadata": {
        "id": "IEkMu5DXdCWJ"
      }
    },
    {
      "cell_type": "code",
      "source": [
        "nombre= input('Escribe tu nombre: ')\n",
        "edad= input('Escribe tu edad: ')\n",
        "altura= input('Escribe tu altura: ')\n",
        "print(f'Hola, {nombre}, tienes {edad} años y mides {altura} metros.')"
      ],
      "metadata": {
        "colab": {
          "base_uri": "https://localhost:8080/"
        },
        "id": "Wsw6I4KWdD7R",
        "outputId": "06ed3f52-bf51-49d3-f907-4b45ac20c1a3"
      },
      "execution_count": null,
      "outputs": [
        {
          "output_type": "stream",
          "name": "stdout",
          "text": [
            "Escribe tu nombre: Aslo\n",
            "Escribe tu edad: 45\n",
            "Escribe tu altura: 1.22\n",
            "Hola, Aslo, tienes 45 años y mides 1.22 metros.\n"
          ]
        }
      ]
    },
    {
      "cell_type": "markdown",
      "source": [
        "4 - Crea un programa que solicite dos valores numéricos al usuario y luego imprima la suma de ambos valores.\n",
        "\n",
        "5 - Crea un programa que solicite tres valores numéricos al usuario y luego imprima la suma de los tres valores.\n",
        "\n",
        "6 - Crea un programa que solicite dos valores numéricos al usuario y luego imprima la resta del primero menos el segundo valor.\n",
        "\n",
        "7 - Crea un programa que solicite dos valores numéricos al usuario y luego imprima la multiplicación de los dos valores.\n",
        "\n"
      ],
      "metadata": {
        "id": "uTlJ6CkAdMtY"
      }
    },
    {
      "cell_type": "code",
      "source": [
        "n1=int(input('Escribe el primer número: '))\n",
        "n2=int(input('Escribe el segundo número: '))\n",
        "n3=int(input('Escribe el tercer número: '))\n",
        "print(f'La suma de los dos números es {n1+n2}')\n",
        "print(f'La suma de los tres números es {n1+n2+n3}')\n",
        "print(f'La resta de los dos números es {n1-n2}')\n",
        "print(f'La multiplicación de los dos números es {n1*n2}')"
      ],
      "metadata": {
        "colab": {
          "base_uri": "https://localhost:8080/"
        },
        "id": "JEPA91ifdOPk",
        "outputId": "8fcebcbf-91d7-4d79-90f8-de65fb985f6a"
      },
      "execution_count": null,
      "outputs": [
        {
          "output_type": "stream",
          "name": "stdout",
          "text": [
            "Escribe el primer número: 8\n",
            "Escribe el segundo número: 5\n",
            "Escribe el tercer número: 3\n",
            "La suma de los dos números es 13\n",
            "La suma de los tres números es 16\n",
            "La resta de los dos números es 3\n",
            "La multiplicación de los dos números es 40\n"
          ]
        }
      ]
    },
    {
      "cell_type": "markdown",
      "source": [
        "8 - Crea un programa que solicite dos valores numéricos, un numerador y un denominador, y realice la división entre los dos valores. Asegúrate de que el valor del denominador no sea igual a 0."
      ],
      "metadata": {
        "id": "MkWhlfG3e1i0"
      }
    },
    {
      "cell_type": "code",
      "source": [
        "numerador=int(input('Escribe el numerador: '))\n",
        "denominador=int(input('Escribe el denominador: '))\n",
        "print(f'La división de los dos números es {numerador/denominador}')"
      ],
      "metadata": {
        "id": "6jtFuw8ce3jw",
        "outputId": "f37cd410-0568-4752-9809-62ee6610d5c4",
        "colab": {
          "base_uri": "https://localhost:8080/"
        }
      },
      "execution_count": null,
      "outputs": [
        {
          "output_type": "stream",
          "name": "stdout",
          "text": [
            "Escribe el numerador: 9\n",
            "Escribe el denominador: 2\n",
            "La división de los dos números es 4.5\n"
          ]
        }
      ]
    },
    {
      "cell_type": "markdown",
      "source": [
        "9 - Crea un programa que solicite dos valores numéricos, un operador y una potencia, y realice la exponenciación entre estos dos valores.\n",
        "\n",
        "\n"
      ],
      "metadata": {
        "id": "ZAdFOyDdfK2C"
      }
    },
    {
      "cell_type": "code",
      "source": [
        "operador=int(input('Escribe el operador: '))\n",
        "potencia=int(input('Escribe la potencia: '))\n",
        "print(f'La exponenciación de los dos números es {operador**potencia}')"
      ],
      "metadata": {
        "id": "2BUUfUiqfL-D",
        "outputId": "dc2da346-eb57-4448-9ef3-ede2174a7704",
        "colab": {
          "base_uri": "https://localhost:8080/"
        }
      },
      "execution_count": null,
      "outputs": [
        {
          "output_type": "stream",
          "name": "stdout",
          "text": [
            "Escribe el operador: 5\n",
            "Escribe la potencia: 2\n",
            "La exponenciación de los dos números es 25\n"
          ]
        }
      ]
    },
    {
      "cell_type": "markdown",
      "source": [
        "10 - Crea un programa que solicite dos valores numéricos, un numerador y un denominador, y realice la división entera entre los dos valores. Asegúrate de que el valor del denominador no sea igual a 0.\n",
        "\n"
      ],
      "metadata": {
        "id": "YSzmqj3xfSdw"
      }
    },
    {
      "cell_type": "code",
      "source": [
        "numerador=int(input('Escribe el numerador: '))\n",
        "denominador=int(input('Escribe el denominador: '))\n",
        "print(f'La división entera de los dos números es {numerador//denominador}')"
      ],
      "metadata": {
        "id": "8oyak8ymfTzM",
        "outputId": "55a747be-5052-452f-d63f-5ce00980d1a5",
        "colab": {
          "base_uri": "https://localhost:8080/"
        }
      },
      "execution_count": null,
      "outputs": [
        {
          "output_type": "stream",
          "name": "stdout",
          "text": [
            "Escribe el numerador: 9\n",
            "Escribe el denominador: 2\n",
            "La división entera de los dos números es 4\n"
          ]
        }
      ]
    },
    {
      "cell_type": "markdown",
      "source": [
        "11 - Crea un programa que solicite dos valores numéricos, un numerador y un denominador, y devuelva el resto de la división entre los dos valores. Asegúrate de que el valor del denominador no sea igual a 0.\n",
        "\n"
      ],
      "metadata": {
        "id": "bXXPwSAZfeKT"
      }
    },
    {
      "cell_type": "code",
      "source": [
        "numerador=int(input('Escribe el numerador: '))\n",
        "denominador=int(input('Escribe el denominador: '))\n",
        "print(f'El resto de la división de los dos números es {numerador%denominador}')"
      ],
      "metadata": {
        "id": "Zbr0V47vffhi",
        "outputId": "8b4d5f89-9d63-4f33-b317-ba58d9b8cb5c",
        "colab": {
          "base_uri": "https://localhost:8080/"
        }
      },
      "execution_count": null,
      "outputs": [
        {
          "output_type": "stream",
          "name": "stdout",
          "text": [
            "Escribe el numerador: 9\n",
            "Escribe el denominador: 2\n",
            "El resto de la división de los dos números es 1\n"
          ]
        }
      ]
    },
    {
      "cell_type": "markdown",
      "source": [
        "12 - Crea un código que solicite las 3 notas de un estudiante e imprima el promedio de las notas.\n",
        "\n"
      ],
      "metadata": {
        "id": "uUHoPHB_fnMg"
      }
    },
    {
      "cell_type": "code",
      "source": [
        "n1=int(input('Escribe la primera nota: '))\n",
        "n2=int(input('Escribe la segunda nota: '))\n",
        "n3=int(input('Escribe la tercera nota: '))\n",
        "print(f'El promedio de las notas es:  {(n1+n2+n3)/3}')"
      ],
      "metadata": {
        "id": "YrJzwiP_fmpl",
        "outputId": "c3a1e92a-44d2-4324-d417-8396a98f1ab4",
        "colab": {
          "base_uri": "https://localhost:8080/"
        }
      },
      "execution_count": null,
      "outputs": [
        {
          "output_type": "stream",
          "name": "stdout",
          "text": [
            "Escribe la primera nota: 9\n",
            "Escribe la segunda nota: 8\n",
            "Escribe la tercera nota: 9\n",
            "El promedio de las notas es:  8.666666666666666\n"
          ]
        }
      ]
    },
    {
      "cell_type": "markdown",
      "source": [
        "13 - Crea un código que calcule e imprima el promedio ponderado de los números 5, 12, 20 y 15 con pesos respectivamente iguales a 1, 2, 3 y 4.\n",
        "\n"
      ],
      "metadata": {
        "id": "TIJqRMFZf7Va"
      }
    },
    {
      "cell_type": "code",
      "source": [
        "n1=5\n",
        "n2=12\n",
        "n3=20\n",
        "n4=15\n",
        "print(f'El promedio ponderado de los números es: {(n1*1+n2*2+n3*3+n4*4)/(1+2+3+4)}')"
      ],
      "metadata": {
        "id": "lIRvF1Yrf8TY",
        "outputId": "6e414ecd-8b5c-4fac-ad44-8c54d5d98641",
        "colab": {
          "base_uri": "https://localhost:8080/"
        }
      },
      "execution_count": null,
      "outputs": [
        {
          "output_type": "stream",
          "name": "stdout",
          "text": [
            "El promedio ponderado de los números es: 14.9\n"
          ]
        }
      ]
    },
    {
      "cell_type": "markdown",
      "source": [
        "14 - Crea una variable llamada \"frase\" y asígnale una cadena de texto de tu elección. Luego, imprime la frase en pantalla.\n",
        "\n"
      ],
      "metadata": {
        "id": "K0vHQf2cgZ0x"
      }
    },
    {
      "cell_type": "code",
      "source": [
        "frase='Hola mundo'\n",
        "print(frase)"
      ],
      "metadata": {
        "id": "4iD-VRTHga6Q",
        "outputId": "515d24de-b5f7-4c86-e67e-b47a897195cd",
        "colab": {
          "base_uri": "https://localhost:8080/"
        }
      },
      "execution_count": null,
      "outputs": [
        {
          "output_type": "stream",
          "name": "stdout",
          "text": [
            "Hola mundo\n"
          ]
        }
      ]
    },
    {
      "cell_type": "markdown",
      "source": [
        "15 - Crea un código que solicite una frase y luego imprima la frase en pantalla.\n",
        "\n",
        "16 - Crea un código que solicite una frase al usuario y luego imprima la misma frase ingresada pero en mayúsculas.\n",
        "\n",
        "17 - Crea un código que solicite una frase al usuario y luego imprima la misma frase ingresada pero en minúsculas.\n",
        "\n",
        "\n",
        "19 - Crea un código que solicite una frase al usuario y luego imprima la misma frase sin espacios en blanco al principio y al final.\n",
        "\n"
      ],
      "metadata": {
        "id": "P_Tb9xw-gene"
      }
    },
    {
      "cell_type": "code",
      "source": [
        "frase=input('Escribe una frase: ')\n",
        "print(frase)\n",
        "print(frase.upper())\n",
        "print(frase.lower())\n",
        "print(frase.strip())"
      ],
      "metadata": {
        "id": "p_ZviwHjg5G7",
        "outputId": "90658deb-e44c-49b8-c1b3-016fe27e25a3",
        "colab": {
          "base_uri": "https://localhost:8080/"
        }
      },
      "execution_count": null,
      "outputs": [
        {
          "output_type": "stream",
          "name": "stdout",
          "text": [
            "Escribe una frase:      JaBoN\n",
            "     JaBoN\n",
            "     JABON\n",
            "     jabon\n",
            "JaBoN\n"
          ]
        }
      ]
    },
    {
      "cell_type": "markdown",
      "source": [
        "18 - Crea una variable llamada \"frase\" y asígnale una cadena de texto de tu elección. Luego, imprime la frase sin espacios en blanco al principio y al final.\n"
      ],
      "metadata": {
        "id": "ByhLtDnthnpw"
      }
    },
    {
      "cell_type": "code",
      "source": [
        "frase=' Hola mundo '\n",
        "print(frase.strip())"
      ],
      "metadata": {
        "id": "U6GILJ01hpBC",
        "outputId": "445f3e6c-e6e5-4ecd-e016-2757b241ee4c",
        "colab": {
          "base_uri": "https://localhost:8080/"
        }
      },
      "execution_count": null,
      "outputs": [
        {
          "output_type": "stream",
          "name": "stdout",
          "text": [
            "Hola mundo\n"
          ]
        }
      ]
    },
    {
      "cell_type": "markdown",
      "source": [
        "20 - Crea un código que solicite una frase al usuario y luego imprima la misma frase sin espacios en blanco al principio y al final, además de convertirla a minúsculas.\n",
        "\n",
        "21 - Crea un código que solicite una frase al usuario y luego imprima la misma frase con todas las vocales \"e\" reemplazadas por la letra \"f\".\n",
        "\n",
        "22 - Crea un código que solicite una frase al usuario y luego imprima la misma frase con todas las vocales \"a\" reemplazadas por el carácter \"@\".\n",
        "\n",
        "23 - Crea un código que solicite una frase al usuario y luego imprima la misma frase con todas las consonantes \"s\" reemplazadas por el carácter \"$\"."
      ],
      "metadata": {
        "id": "CdI_Cd7zhvmk"
      }
    },
    {
      "cell_type": "code",
      "source": [
        "frase=input('Escribe una frase: ')\n",
        "print(frase.strip().lower())\n",
        "print(frase.replace('e','f'))\n",
        "print(frase.replace('a','@'))\n",
        "print(frase.replace('s','$'))"
      ],
      "metadata": {
        "id": "_b4EfSwohwzD",
        "outputId": "3d8a86b7-2770-4f90-84d3-54e48efc31a8",
        "colab": {
          "base_uri": "https://localhost:8080/"
        }
      },
      "execution_count": null,
      "outputs": [
        {
          "output_type": "stream",
          "name": "stdout",
          "text": [
            "Escribe una frase:       estafandO La Vida\n",
            "estafando la vida\n",
            "      fstafandO La Vida\n",
            "      est@f@ndO L@ Vid@\n",
            "      e$tafandO La Vida\n"
          ]
        }
      ]
    }
  ]
}